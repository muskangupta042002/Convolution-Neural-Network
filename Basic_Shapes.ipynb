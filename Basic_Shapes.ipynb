{
  "nbformat": 4,
  "nbformat_minor": 0,
  "metadata": {
    "accelerator": "GPU",
    "colab": {
      "name": "Basic_Shapes.ipynb",
      "provenance": [],
      "collapsed_sections": [],
      "include_colab_link": true
    },
    "kernelspec": {
      "display_name": "Python 3",
      "language": "python",
      "name": "python3"
    },
    "language_info": {
      "codemirror_mode": {
        "name": "ipython",
        "version": 3
      },
      "file_extension": ".py",
      "mimetype": "text/x-python",
      "name": "python",
      "nbconvert_exporter": "python",
      "pygments_lexer": "ipython3",
      "version": "3.7.6"
    }
  },
  "cells": [
    {
      "cell_type": "markdown",
      "metadata": {
        "id": "view-in-github",
        "colab_type": "text"
      },
      "source": [
        "<a href=\"https://colab.research.google.com/github/muskangupta042002/Convolution-Neural-Network/blob/master/Basic_Shapes.ipynb\" target=\"_parent\"><img src=\"https://colab.research.google.com/assets/colab-badge.svg\" alt=\"Open In Colab\"/></a>"
      ]
    },
    {
      "cell_type": "code",
      "metadata": {
        "colab_type": "code",
        "id": "_KQnY0loGZMo",
        "colab": {
          "base_uri": "https://localhost:8080/",
          "height": 1000
        },
        "outputId": "9b5b99dd-80c0-49dc-c7d3-c37def7f039f"
      },
      "source": [
        "!unzip basicshapes.zip"
      ],
      "execution_count": 1,
      "outputs": [
        {
          "output_type": "stream",
          "text": [
            "Archive:  basicshapes.zip\n",
            "   creating: shapes/circles/\n",
            " extracting: shapes/circles/drawing(1).png  \n",
            " extracting: shapes/circles/drawing(10).png  \n",
            " extracting: shapes/circles/drawing(100).png  \n",
            " extracting: shapes/circles/drawing(11).png  \n",
            " extracting: shapes/circles/drawing(12).png  \n",
            " extracting: shapes/circles/drawing(13).png  \n",
            " extracting: shapes/circles/drawing(14).png  \n",
            " extracting: shapes/circles/drawing(15).png  \n",
            " extracting: shapes/circles/drawing(16).png  \n",
            " extracting: shapes/circles/drawing(17).png  \n",
            " extracting: shapes/circles/drawing(18).png  \n",
            " extracting: shapes/circles/drawing(19).png  \n",
            " extracting: shapes/circles/drawing(2).png  \n",
            " extracting: shapes/circles/drawing(20).png  \n",
            " extracting: shapes/circles/drawing(21).png  \n",
            " extracting: shapes/circles/drawing(22).png  \n",
            " extracting: shapes/circles/drawing(23).png  \n",
            " extracting: shapes/circles/drawing(24).png  \n",
            " extracting: shapes/circles/drawing(25).png  \n",
            " extracting: shapes/circles/drawing(26).png  \n",
            " extracting: shapes/circles/drawing(27).png  \n",
            " extracting: shapes/circles/drawing(28).png  \n",
            " extracting: shapes/circles/drawing(29).png  \n",
            " extracting: shapes/circles/drawing(3).png  \n",
            " extracting: shapes/circles/drawing(30).png  \n",
            " extracting: shapes/circles/drawing(31).png  \n",
            " extracting: shapes/circles/drawing(32).png  \n",
            " extracting: shapes/circles/drawing(33).png  \n",
            " extracting: shapes/circles/drawing(34).png  \n",
            " extracting: shapes/circles/drawing(35).png  \n",
            " extracting: shapes/circles/drawing(36).png  \n",
            " extracting: shapes/circles/drawing(37).png  \n",
            " extracting: shapes/circles/drawing(38).png  \n",
            " extracting: shapes/circles/drawing(39).png  \n",
            " extracting: shapes/circles/drawing(4).png  \n",
            " extracting: shapes/circles/drawing(40).png  \n",
            " extracting: shapes/circles/drawing(41).png  \n",
            " extracting: shapes/circles/drawing(42).png  \n",
            " extracting: shapes/circles/drawing(43).png  \n",
            " extracting: shapes/circles/drawing(44).png  \n",
            " extracting: shapes/circles/drawing(45).png  \n",
            " extracting: shapes/circles/drawing(46).png  \n",
            " extracting: shapes/circles/drawing(47).png  \n",
            " extracting: shapes/circles/drawing(48).png  \n",
            " extracting: shapes/circles/drawing(49).png  \n",
            " extracting: shapes/circles/drawing(5).png  \n",
            " extracting: shapes/circles/drawing(50).png  \n",
            " extracting: shapes/circles/drawing(51).png  \n",
            " extracting: shapes/circles/drawing(52).png  \n",
            " extracting: shapes/circles/drawing(53).png  \n",
            " extracting: shapes/circles/drawing(54).png  \n",
            " extracting: shapes/circles/drawing(55).png  \n",
            " extracting: shapes/circles/drawing(56).png  \n",
            " extracting: shapes/circles/drawing(57).png  \n",
            " extracting: shapes/circles/drawing(58).png  \n",
            " extracting: shapes/circles/drawing(59).png  \n",
            " extracting: shapes/circles/drawing(6).png  \n",
            " extracting: shapes/circles/drawing(60).png  \n",
            " extracting: shapes/circles/drawing(61).png  \n",
            " extracting: shapes/circles/drawing(62).png  \n",
            " extracting: shapes/circles/drawing(63).png  \n",
            " extracting: shapes/circles/drawing(64).png  \n",
            " extracting: shapes/circles/drawing(65).png  \n",
            " extracting: shapes/circles/drawing(66).png  \n",
            " extracting: shapes/circles/drawing(67).png  \n",
            " extracting: shapes/circles/drawing(68).png  \n",
            " extracting: shapes/circles/drawing(69).png  \n",
            " extracting: shapes/circles/drawing(7).png  \n",
            " extracting: shapes/circles/drawing(70).png  \n",
            " extracting: shapes/circles/drawing(71).png  \n",
            " extracting: shapes/circles/drawing(72).png  \n",
            " extracting: shapes/circles/drawing(73).png  \n",
            " extracting: shapes/circles/drawing(74).png  \n",
            " extracting: shapes/circles/drawing(75).png  \n",
            " extracting: shapes/circles/drawing(76).png  \n",
            " extracting: shapes/circles/drawing(77).png  \n",
            " extracting: shapes/circles/drawing(78).png  \n",
            " extracting: shapes/circles/drawing(79).png  \n",
            " extracting: shapes/circles/drawing(8).png  \n",
            " extracting: shapes/circles/drawing(80).png  \n",
            " extracting: shapes/circles/drawing(81).png  \n",
            " extracting: shapes/circles/drawing(82).png  \n",
            " extracting: shapes/circles/drawing(83).png  \n",
            " extracting: shapes/circles/drawing(84).png  \n",
            " extracting: shapes/circles/drawing(85).png  \n",
            " extracting: shapes/circles/drawing(86).png  \n",
            " extracting: shapes/circles/drawing(87).png  \n",
            " extracting: shapes/circles/drawing(88).png  \n",
            " extracting: shapes/circles/drawing(89).png  \n",
            " extracting: shapes/circles/drawing(9).png  \n",
            " extracting: shapes/circles/drawing(90).png  \n",
            " extracting: shapes/circles/drawing(91).png  \n",
            " extracting: shapes/circles/drawing(92).png  \n",
            " extracting: shapes/circles/drawing(93).png  \n",
            " extracting: shapes/circles/drawing(94).png  \n",
            " extracting: shapes/circles/drawing(95).png  \n",
            " extracting: shapes/circles/drawing(96).png  \n",
            " extracting: shapes/circles/drawing(97).png  \n",
            " extracting: shapes/circles/drawing(98).png  \n",
            " extracting: shapes/circles/drawing(99).png  \n",
            "   creating: shapes/squares/\n",
            " extracting: shapes/squares/drawing(1).png  \n",
            " extracting: shapes/squares/drawing(10).png  \n",
            " extracting: shapes/squares/drawing(100).png  \n",
            " extracting: shapes/squares/drawing(11).png  \n",
            " extracting: shapes/squares/drawing(12).png  \n",
            " extracting: shapes/squares/drawing(13).png  \n",
            " extracting: shapes/squares/drawing(14).png  \n",
            " extracting: shapes/squares/drawing(15).png  \n",
            " extracting: shapes/squares/drawing(16).png  \n",
            " extracting: shapes/squares/drawing(17).png  \n",
            " extracting: shapes/squares/drawing(18).png  \n",
            " extracting: shapes/squares/drawing(19).png  \n",
            " extracting: shapes/squares/drawing(2).png  \n",
            " extracting: shapes/squares/drawing(20).png  \n",
            " extracting: shapes/squares/drawing(21).png  \n",
            " extracting: shapes/squares/drawing(22).png  \n",
            " extracting: shapes/squares/drawing(23).png  \n",
            " extracting: shapes/squares/drawing(24).png  \n",
            " extracting: shapes/squares/drawing(25).png  \n",
            " extracting: shapes/squares/drawing(26).png  \n",
            " extracting: shapes/squares/drawing(27).png  \n",
            " extracting: shapes/squares/drawing(28).png  \n",
            " extracting: shapes/squares/drawing(29).png  \n",
            " extracting: shapes/squares/drawing(3).png  \n",
            " extracting: shapes/squares/drawing(30).png  \n",
            " extracting: shapes/squares/drawing(31).png  \n",
            " extracting: shapes/squares/drawing(32).png  \n",
            " extracting: shapes/squares/drawing(33).png  \n",
            " extracting: shapes/squares/drawing(34).png  \n",
            " extracting: shapes/squares/drawing(35).png  \n",
            " extracting: shapes/squares/drawing(36).png  \n",
            " extracting: shapes/squares/drawing(37).png  \n",
            " extracting: shapes/squares/drawing(38).png  \n",
            " extracting: shapes/squares/drawing(39).png  \n",
            " extracting: shapes/squares/drawing(4).png  \n",
            " extracting: shapes/squares/drawing(40).png  \n",
            " extracting: shapes/squares/drawing(41).png  \n",
            " extracting: shapes/squares/drawing(42).png  \n",
            " extracting: shapes/squares/drawing(43).png  \n",
            " extracting: shapes/squares/drawing(44).png  \n",
            " extracting: shapes/squares/drawing(45).png  \n",
            " extracting: shapes/squares/drawing(46).png  \n",
            " extracting: shapes/squares/drawing(47).png  \n",
            " extracting: shapes/squares/drawing(48).png  \n",
            " extracting: shapes/squares/drawing(49).png  \n",
            " extracting: shapes/squares/drawing(5).png  \n",
            " extracting: shapes/squares/drawing(50).png  \n",
            " extracting: shapes/squares/drawing(51).png  \n",
            " extracting: shapes/squares/drawing(52).png  \n",
            " extracting: shapes/squares/drawing(53).png  \n",
            " extracting: shapes/squares/drawing(54).png  \n",
            " extracting: shapes/squares/drawing(55).png  \n",
            " extracting: shapes/squares/drawing(56).png  \n",
            " extracting: shapes/squares/drawing(57).png  \n",
            " extracting: shapes/squares/drawing(58).png  \n",
            " extracting: shapes/squares/drawing(59).png  \n",
            " extracting: shapes/squares/drawing(6).png  \n",
            " extracting: shapes/squares/drawing(60).png  \n",
            " extracting: shapes/squares/drawing(61).png  \n",
            " extracting: shapes/squares/drawing(62).png  \n",
            " extracting: shapes/squares/drawing(63).png  \n",
            " extracting: shapes/squares/drawing(64).png  \n",
            " extracting: shapes/squares/drawing(65).png  \n",
            " extracting: shapes/squares/drawing(66).png  \n",
            " extracting: shapes/squares/drawing(67).png  \n",
            " extracting: shapes/squares/drawing(68).png  \n",
            " extracting: shapes/squares/drawing(69).png  \n",
            " extracting: shapes/squares/drawing(7).png  \n",
            " extracting: shapes/squares/drawing(70).png  \n",
            " extracting: shapes/squares/drawing(71).png  \n",
            " extracting: shapes/squares/drawing(72).png  \n",
            " extracting: shapes/squares/drawing(73).png  \n",
            " extracting: shapes/squares/drawing(74).png  \n",
            " extracting: shapes/squares/drawing(75).png  \n",
            " extracting: shapes/squares/drawing(76).png  \n",
            " extracting: shapes/squares/drawing(77).png  \n",
            " extracting: shapes/squares/drawing(78).png  \n",
            " extracting: shapes/squares/drawing(79).png  \n",
            " extracting: shapes/squares/drawing(8).png  \n",
            " extracting: shapes/squares/drawing(80).png  \n",
            " extracting: shapes/squares/drawing(81).png  \n",
            " extracting: shapes/squares/drawing(82).png  \n",
            " extracting: shapes/squares/drawing(83).png  \n",
            " extracting: shapes/squares/drawing(84).png  \n",
            " extracting: shapes/squares/drawing(85).png  \n",
            " extracting: shapes/squares/drawing(86).png  \n",
            " extracting: shapes/squares/drawing(87).png  \n",
            " extracting: shapes/squares/drawing(88).png  \n",
            " extracting: shapes/squares/drawing(89).png  \n",
            " extracting: shapes/squares/drawing(9).png  \n",
            " extracting: shapes/squares/drawing(90).png  \n",
            " extracting: shapes/squares/drawing(91).png  \n",
            " extracting: shapes/squares/drawing(92).png  \n",
            " extracting: shapes/squares/drawing(93).png  \n",
            " extracting: shapes/squares/drawing(94).png  \n",
            " extracting: shapes/squares/drawing(95).png  \n",
            " extracting: shapes/squares/drawing(96).png  \n",
            " extracting: shapes/squares/drawing(97).png  \n",
            " extracting: shapes/squares/drawing(98).png  \n",
            " extracting: shapes/squares/drawing(99).png  \n",
            "   creating: shapes/triangles/\n",
            " extracting: shapes/triangles/drawing(1).png  \n",
            " extracting: shapes/triangles/drawing(10).png  \n",
            " extracting: shapes/triangles/drawing(100).png  \n",
            " extracting: shapes/triangles/drawing(11).png  \n",
            " extracting: shapes/triangles/drawing(12).png  \n",
            " extracting: shapes/triangles/drawing(13).png  \n",
            " extracting: shapes/triangles/drawing(14).png  \n",
            " extracting: shapes/triangles/drawing(15).png  \n",
            " extracting: shapes/triangles/drawing(16).png  \n",
            " extracting: shapes/triangles/drawing(17).png  \n",
            " extracting: shapes/triangles/drawing(18).png  \n",
            " extracting: shapes/triangles/drawing(19).png  \n",
            " extracting: shapes/triangles/drawing(2).png  \n",
            " extracting: shapes/triangles/drawing(20).png  \n",
            " extracting: shapes/triangles/drawing(21).png  \n",
            " extracting: shapes/triangles/drawing(22).png  \n",
            " extracting: shapes/triangles/drawing(23).png  \n",
            " extracting: shapes/triangles/drawing(24).png  \n",
            " extracting: shapes/triangles/drawing(25).png  \n",
            " extracting: shapes/triangles/drawing(26).png  \n",
            " extracting: shapes/triangles/drawing(27).png  \n",
            " extracting: shapes/triangles/drawing(28).png  \n",
            " extracting: shapes/triangles/drawing(29).png  \n",
            " extracting: shapes/triangles/drawing(3).png  \n",
            " extracting: shapes/triangles/drawing(30).png  \n",
            " extracting: shapes/triangles/drawing(31).png  \n",
            " extracting: shapes/triangles/drawing(32).png  \n",
            " extracting: shapes/triangles/drawing(33).png  \n",
            " extracting: shapes/triangles/drawing(34).png  \n",
            " extracting: shapes/triangles/drawing(35).png  \n",
            " extracting: shapes/triangles/drawing(36).png  \n",
            " extracting: shapes/triangles/drawing(37).png  \n",
            " extracting: shapes/triangles/drawing(38).png  \n",
            " extracting: shapes/triangles/drawing(39).png  \n",
            " extracting: shapes/triangles/drawing(4).png  \n",
            " extracting: shapes/triangles/drawing(40).png  \n",
            " extracting: shapes/triangles/drawing(41).png  \n",
            " extracting: shapes/triangles/drawing(42).png  \n",
            " extracting: shapes/triangles/drawing(43).png  \n",
            " extracting: shapes/triangles/drawing(44).png  \n",
            " extracting: shapes/triangles/drawing(45).png  \n",
            " extracting: shapes/triangles/drawing(46).png  \n",
            " extracting: shapes/triangles/drawing(47).png  \n",
            " extracting: shapes/triangles/drawing(48).png  \n",
            " extracting: shapes/triangles/drawing(49).png  \n",
            " extracting: shapes/triangles/drawing(5).png  \n",
            " extracting: shapes/triangles/drawing(50).png  \n",
            " extracting: shapes/triangles/drawing(51).png  \n",
            " extracting: shapes/triangles/drawing(52).png  \n",
            " extracting: shapes/triangles/drawing(53).png  \n",
            " extracting: shapes/triangles/drawing(54).png  \n",
            " extracting: shapes/triangles/drawing(55).png  \n",
            " extracting: shapes/triangles/drawing(56).png  \n",
            " extracting: shapes/triangles/drawing(57).png  \n",
            " extracting: shapes/triangles/drawing(58).png  \n",
            " extracting: shapes/triangles/drawing(59).png  \n",
            " extracting: shapes/triangles/drawing(6).png  \n",
            " extracting: shapes/triangles/drawing(60).png  \n",
            " extracting: shapes/triangles/drawing(61).png  \n",
            " extracting: shapes/triangles/drawing(62).png  \n",
            " extracting: shapes/triangles/drawing(63).png  \n",
            " extracting: shapes/triangles/drawing(64).png  \n",
            " extracting: shapes/triangles/drawing(65).png  \n",
            " extracting: shapes/triangles/drawing(66).png  \n",
            " extracting: shapes/triangles/drawing(67).png  \n",
            " extracting: shapes/triangles/drawing(68).png  \n",
            " extracting: shapes/triangles/drawing(69).png  \n",
            " extracting: shapes/triangles/drawing(7).png  \n",
            " extracting: shapes/triangles/drawing(70).png  \n",
            " extracting: shapes/triangles/drawing(71).png  \n",
            " extracting: shapes/triangles/drawing(72).png  \n",
            " extracting: shapes/triangles/drawing(73).png  \n",
            " extracting: shapes/triangles/drawing(74).png  \n",
            " extracting: shapes/triangles/drawing(75).png  \n",
            " extracting: shapes/triangles/drawing(76).png  \n",
            " extracting: shapes/triangles/drawing(77).png  \n",
            " extracting: shapes/triangles/drawing(78).png  \n",
            " extracting: shapes/triangles/drawing(79).png  \n",
            " extracting: shapes/triangles/drawing(8).png  \n",
            " extracting: shapes/triangles/drawing(80).png  \n",
            " extracting: shapes/triangles/drawing(81).png  \n",
            " extracting: shapes/triangles/drawing(82).png  \n",
            " extracting: shapes/triangles/drawing(83).png  \n",
            " extracting: shapes/triangles/drawing(84).png  \n",
            " extracting: shapes/triangles/drawing(85).png  \n",
            " extracting: shapes/triangles/drawing(86).png  \n",
            " extracting: shapes/triangles/drawing(87).png  \n",
            " extracting: shapes/triangles/drawing(88).png  \n",
            " extracting: shapes/triangles/drawing(89).png  \n",
            " extracting: shapes/triangles/drawing(9).png  \n",
            " extracting: shapes/triangles/drawing(90).png  \n",
            " extracting: shapes/triangles/drawing(91).png  \n",
            " extracting: shapes/triangles/drawing(92).png  \n",
            " extracting: shapes/triangles/drawing(93).png  \n",
            " extracting: shapes/triangles/drawing(94).png  \n",
            " extracting: shapes/triangles/drawing(95).png  \n",
            " extracting: shapes/triangles/drawing(96).png  \n",
            " extracting: shapes/triangles/drawing(97).png  \n",
            " extracting: shapes/triangles/drawing(98).png  \n",
            " extracting: shapes/triangles/drawing(99).png  \n"
          ],
          "name": "stdout"
        }
      ]
    },
    {
      "cell_type": "code",
      "metadata": {
        "colab_type": "code",
        "id": "juk5C-7XGkvu",
        "colab": {}
      },
      "source": [
        "import os\n",
        "from glob import glob"
      ],
      "execution_count": 2,
      "outputs": []
    },
    {
      "cell_type": "code",
      "metadata": {
        "colab_type": "code",
        "id": "w0DVCHbqGuYI",
        "colab": {
          "base_uri": "https://localhost:8080/",
          "height": 194
        },
        "outputId": "54b30738-be0a-408c-9954-a58d4b6cba5e"
      },
      "source": [
        "glob('shapes/triangles/*')[:10]"
      ],
      "execution_count": 3,
      "outputs": [
        {
          "output_type": "execute_result",
          "data": {
            "text/plain": [
              "['shapes/triangles/drawing(45).png',\n",
              " 'shapes/triangles/drawing(6).png',\n",
              " 'shapes/triangles/drawing(80).png',\n",
              " 'shapes/triangles/drawing(82).png',\n",
              " 'shapes/triangles/drawing(95).png',\n",
              " 'shapes/triangles/drawing(13).png',\n",
              " 'shapes/triangles/drawing(43).png',\n",
              " 'shapes/triangles/drawing(37).png',\n",
              " 'shapes/triangles/drawing(85).png',\n",
              " 'shapes/triangles/drawing(77).png']"
            ]
          },
          "metadata": {
            "tags": []
          },
          "execution_count": 3
        }
      ]
    },
    {
      "cell_type": "code",
      "metadata": {
        "colab_type": "code",
        "id": "oOl4Uf35Gz_5",
        "colab": {}
      },
      "source": [
        "import imageio\n",
        "import matplotlib.pyplot as plt"
      ],
      "execution_count": 4,
      "outputs": []
    },
    {
      "cell_type": "code",
      "metadata": {
        "colab_type": "code",
        "id": "nKUOnTQJTqKx",
        "colab": {}
      },
      "source": [
        "temp = imageio.imread('shapes/triangles/drawing(96).png')"
      ],
      "execution_count": 5,
      "outputs": []
    },
    {
      "cell_type": "code",
      "metadata": {
        "colab_type": "code",
        "id": "uDrv0WyOTuz8",
        "colab": {
          "base_uri": "https://localhost:8080/",
          "height": 34
        },
        "outputId": "8c0b2757-0f80-49e8-c007-44c09996fa1d"
      },
      "source": [
        "temp.shape"
      ],
      "execution_count": 6,
      "outputs": [
        {
          "output_type": "execute_result",
          "data": {
            "text/plain": [
              "(28, 28, 3)"
            ]
          },
          "metadata": {
            "tags": []
          },
          "execution_count": 6
        }
      ]
    },
    {
      "cell_type": "code",
      "metadata": {
        "colab_type": "code",
        "id": "3-y5H3jBG6V4",
        "colab": {
          "base_uri": "https://localhost:8080/",
          "height": 145
        },
        "outputId": "c1d80772-46b8-46aa-f131-db0f0887bcd1"
      },
      "source": [
        "fig = plt.figure(figsize = (10,2))\n",
        "for i in range(1,6):\n",
        "    ax = plt.subplot(1,5,i)\n",
        "    img= imageio.imread(glob('shapes/circles/*')[i])\n",
        "    plt.imshow(img)\n",
        "\n"
      ],
      "execution_count": 7,
      "outputs": [
        {
          "output_type": "display_data",
          "data": {
            "image/png": "[encoded data removed]",
            "text/plain": [
              "<Figure size 720x144 with 5 Axes>"
            ]
          },
          "metadata": {
            "tags": [],
            "needs_background": "light"
          }
        }
      ]
    },
    {
      "cell_type": "code",
      "metadata": {
        "colab_type": "code",
        "id": "x76XQJeBJF7B",
        "colab": {
          "base_uri": "https://localhost:8080/",
          "height": 34
        },
        "outputId": "d07bfe40-b788-449b-fdcb-34a3f04e3aa3"
      },
      "source": [
        "!rm -r /content/shapes/shapes"
      ],
      "execution_count": 8,
      "outputs": [
        {
          "output_type": "stream",
          "text": [
            "rm: cannot remove '/content/shapes/shapes': No such file or directory\n"
          ],
          "name": "stdout"
        }
      ]
    },
    {
      "cell_type": "code",
      "metadata": {
        "colab_type": "code",
        "id": "DFBCQxtyMfrE",
        "colab": {}
      },
      "source": [
        "!mkdir shapes_val\n",
        "!mkdir shapes_val/circles\n",
        "!mkdir shapes_val/squares\n",
        "!mkdir shapes_val/triangles"
      ],
      "execution_count": 9,
      "outputs": []
    },
    {
      "cell_type": "code",
      "metadata": {
        "colab_type": "code",
        "id": "oztUMRGjMvkP",
        "colab": {}
      },
      "source": [
        "squares = glob('shapes/squares/*')\n",
        "circles = glob('shapes/circles/*')\n",
        "triangles = glob('shapes/triangles/*')"
      ],
      "execution_count": 10,
      "outputs": []
    },
    {
      "cell_type": "code",
      "metadata": {
        "colab_type": "code",
        "id": "uII_TgImNzfC",
        "colab": {
          "base_uri": "https://localhost:8080/",
          "height": 34
        },
        "outputId": "6c3bada7-3371-48c9-87e4-d12fb4e84f3e"
      },
      "source": [
        "len(triangles)"
      ],
      "execution_count": 11,
      "outputs": [
        {
          "output_type": "execute_result",
          "data": {
            "text/plain": [
              "100"
            ]
          },
          "metadata": {
            "tags": []
          },
          "execution_count": 11
        }
      ]
    },
    {
      "cell_type": "code",
      "metadata": {
        "colab_type": "code",
        "id": "JdhcV9sJNF--",
        "colab": {}
      },
      "source": [
        "for img in squares[-20:]:\n",
        "    os.replace(img, img.replace('shapes', 'shapes_val'))\n",
        "for img in circles[-20:]:\n",
        "    os.replace(img, img.replace('shapes', 'shapes_val'))\n",
        "for img in triangles[-20:]:\n",
        "    os.replace(img, img.replace('shapes', 'shapes_val'))"
      ],
      "execution_count": 12,
      "outputs": []
    },
    {
      "cell_type": "code",
      "metadata": {
        "colab_type": "code",
        "id": "o2ulRccZJJWm",
        "colab": {
          "base_uri": "https://localhost:8080/",
          "height": 730
        },
        "outputId": "c0220c56-d2e2-4a78-bc10-1ff64ffa5117"
      },
      "source": [
        "!pip install --upgrade tensorflow keras"
      ],
      "execution_count": 13,
      "outputs": [
        {
          "output_type": "stream",
          "text": [
            "Requirement already up-to-date: tensorflow in /usr/local/lib/python3.6/dist-packages (2.3.0)\n",
            "Requirement already up-to-date: keras in /usr/local/lib/python3.6/dist-packages (2.4.3)\n",
            "Requirement already satisfied, skipping upgrade: google-pasta>=0.1.8 in /usr/local/lib/python3.6/dist-packages (from tensorflow) (0.2.0)\n",
            "Requirement already satisfied, skipping upgrade: six>=1.12.0 in /usr/local/lib/python3.6/dist-packages (from tensorflow) (1.15.0)\n",
            "Requirement already satisfied, skipping upgrade: wrapt>=1.11.1 in /usr/local/lib/python3.6/dist-packages (from tensorflow) (1.12.1)\n",
            "Requirement already satisfied, skipping upgrade: tensorboard<3,>=2.3.0 in /usr/local/lib/python3.6/dist-packages (from tensorflow) (2.3.0)\n",
            "Requirement already satisfied, skipping upgrade: absl-py>=0.7.0 in /usr/local/lib/python3.6/dist-packages (from tensorflow) (0.10.0)\n",
            "Requirement already satisfied, skipping upgrade: wheel>=0.26 in /usr/local/lib/python3.6/dist-packages (from tensorflow) (0.35.1)\n",
            "Requirement already satisfied, skipping upgrade: numpy<1.19.0,>=1.16.0 in /usr/local/lib/python3.6/dist-packages (from tensorflow) (1.18.5)\n",
            "Requirement already satisfied, skipping upgrade: tensorflow-estimator<2.4.0,>=2.3.0 in /usr/local/lib/python3.6/dist-packages (from tensorflow) (2.3.0)\n",
            "Requirement already satisfied, skipping upgrade: gast==0.3.3 in /usr/local/lib/python3.6/dist-packages (from tensorflow) (0.3.3)\n",
            "Requirement already satisfied, skipping upgrade: opt-einsum>=2.3.2 in /usr/local/lib/python3.6/dist-packages (from tensorflow) (3.3.0)\n",
            "Requirement already satisfied, skipping upgrade: protobuf>=3.9.2 in /usr/local/lib/python3.6/dist-packages (from tensorflow) (3.12.4)\n",
            "Requirement already satisfied, skipping upgrade: termcolor>=1.1.0 in /usr/local/lib/python3.6/dist-packages (from tensorflow) (1.1.0)\n",
            "Requirement already satisfied, skipping upgrade: keras-preprocessing<1.2,>=1.1.1 in /usr/local/lib/python3.6/dist-packages (from tensorflow) (1.1.2)\n",
            "Requirement already satisfied, skipping upgrade: scipy==1.4.1 in /usr/local/lib/python3.6/dist-packages (from tensorflow) (1.4.1)\n",
            "Requirement already satisfied, skipping upgrade: h5py<2.11.0,>=2.10.0 in /usr/local/lib/python3.6/dist-packages (from tensorflow) (2.10.0)\n",
            "Requirement already satisfied, skipping upgrade: grpcio>=1.8.6 in /usr/local/lib/python3.6/dist-packages (from tensorflow) (1.32.0)\n",
            "Requirement already satisfied, skipping upgrade: astunparse==1.6.3 in /usr/local/lib/python3.6/dist-packages (from tensorflow) (1.6.3)\n",
            "Requirement already satisfied, skipping upgrade: pyyaml in /usr/local/lib/python3.6/dist-packages (from keras) (3.13)\n",
            "Requirement already satisfied, skipping upgrade: tensorboard-plugin-wit>=1.6.0 in /usr/local/lib/python3.6/dist-packages (from tensorboard<3,>=2.3.0->tensorflow) (1.7.0)\n",
            "Requirement already satisfied, skipping upgrade: markdown>=2.6.8 in /usr/local/lib/python3.6/dist-packages (from tensorboard<3,>=2.3.0->tensorflow) (3.2.2)\n",
            "Requirement already satisfied, skipping upgrade: requests<3,>=2.21.0 in /usr/local/lib/python3.6/dist-packages (from tensorboard<3,>=2.3.0->tensorflow) (2.23.0)\n",
            "Requirement already satisfied, skipping upgrade: werkzeug>=0.11.15 in /usr/local/lib/python3.6/dist-packages (from tensorboard<3,>=2.3.0->tensorflow) (1.0.1)\n",
            "Requirement already satisfied, skipping upgrade: google-auth<2,>=1.6.3 in /usr/local/lib/python3.6/dist-packages (from tensorboard<3,>=2.3.0->tensorflow) (1.17.2)\n",
            "Requirement already satisfied, skipping upgrade: google-auth-oauthlib<0.5,>=0.4.1 in /usr/local/lib/python3.6/dist-packages (from tensorboard<3,>=2.3.0->tensorflow) (0.4.1)\n",
            "Requirement already satisfied, skipping upgrade: setuptools>=41.0.0 in /usr/local/lib/python3.6/dist-packages (from tensorboard<3,>=2.3.0->tensorflow) (50.3.0)\n",
            "Requirement already satisfied, skipping upgrade: importlib-metadata; python_version < \"3.8\" in /usr/local/lib/python3.6/dist-packages (from markdown>=2.6.8->tensorboard<3,>=2.3.0->tensorflow) (1.7.0)\n",
            "Requirement already satisfied, skipping upgrade: urllib3!=1.25.0,!=1.25.1,<1.26,>=1.21.1 in /usr/local/lib/python3.6/dist-packages (from requests<3,>=2.21.0->tensorboard<3,>=2.3.0->tensorflow) (1.24.3)\n",
            "Requirement already satisfied, skipping upgrade: chardet<4,>=3.0.2 in /usr/local/lib/python3.6/dist-packages (from requests<3,>=2.21.0->tensorboard<3,>=2.3.0->tensorflow) (3.0.4)\n",
            "Requirement already satisfied, skipping upgrade: certifi>=2017.4.17 in /usr/local/lib/python3.6/dist-packages (from requests<3,>=2.21.0->tensorboard<3,>=2.3.0->tensorflow) (2020.6.20)\n",
            "Requirement already satisfied, skipping upgrade: idna<3,>=2.5 in /usr/local/lib/python3.6/dist-packages (from requests<3,>=2.21.0->tensorboard<3,>=2.3.0->tensorflow) (2.10)\n",
            "Requirement already satisfied, skipping upgrade: cachetools<5.0,>=2.0.0 in /usr/local/lib/python3.6/dist-packages (from google-auth<2,>=1.6.3->tensorboard<3,>=2.3.0->tensorflow) (4.1.1)\n",
            "Requirement already satisfied, skipping upgrade: pyasn1-modules>=0.2.1 in /usr/local/lib/python3.6/dist-packages (from google-auth<2,>=1.6.3->tensorboard<3,>=2.3.0->tensorflow) (0.2.8)\n",
            "Requirement already satisfied, skipping upgrade: rsa<5,>=3.1.4; python_version >= \"3\" in /usr/local/lib/python3.6/dist-packages (from google-auth<2,>=1.6.3->tensorboard<3,>=2.3.0->tensorflow) (4.6)\n",
            "Requirement already satisfied, skipping upgrade: requests-oauthlib>=0.7.0 in /usr/local/lib/python3.6/dist-packages (from google-auth-oauthlib<0.5,>=0.4.1->tensorboard<3,>=2.3.0->tensorflow) (1.3.0)\n",
            "Requirement already satisfied, skipping upgrade: zipp>=0.5 in /usr/local/lib/python3.6/dist-packages (from importlib-metadata; python_version < \"3.8\"->markdown>=2.6.8->tensorboard<3,>=2.3.0->tensorflow) (3.1.0)\n",
            "Requirement already satisfied, skipping upgrade: pyasn1<0.5.0,>=0.4.6 in /usr/local/lib/python3.6/dist-packages (from pyasn1-modules>=0.2.1->google-auth<2,>=1.6.3->tensorboard<3,>=2.3.0->tensorflow) (0.4.8)\n",
            "Requirement already satisfied, skipping upgrade: oauthlib>=3.0.0 in /usr/local/lib/python3.6/dist-packages (from requests-oauthlib>=0.7.0->google-auth-oauthlib<0.5,>=0.4.1->tensorboard<3,>=2.3.0->tensorflow) (3.1.0)\n"
          ],
          "name": "stdout"
        }
      ]
    },
    {
      "cell_type": "code",
      "metadata": {
        "colab_type": "code",
        "id": "f8SOiCVtJS_u",
        "colab": {}
      },
      "source": [
        "import keras"
      ],
      "execution_count": 14,
      "outputs": []
    },
    {
      "cell_type": "code",
      "metadata": {
        "colab_type": "code",
        "id": "QOD8yGqiJoaU",
        "colab": {}
      },
      "source": [
        "from keras.models import Sequential\n",
        "from keras.layers import Conv2D, MaxPool2D, Flatten, Dense\n",
        "from keras.callbacks import EarlyStopping"
      ],
      "execution_count": 15,
      "outputs": []
    },
    {
      "cell_type": "code",
      "metadata": {
        "colab_type": "code",
        "id": "e_cqriqsJ7A_",
        "colab": {}
      },
      "source": [
        "classifier = Sequential()\n",
        "\n",
        "# First Convolution Layer\n",
        "classifier.add(Conv2D(filters=32, kernel_size=(3,3), input_shape=(28,28,3), activation='relu'))\n",
        "classifier.add(MaxPool2D(pool_size=(2,2)))\n",
        "\n",
        "# Second Convolution Layer\n",
        "classifier.add(Conv2D(filters=32, kernel_size=(3,3), activation='relu'))\n",
        "classifier.add(MaxPool2D(pool_size=(2,2)))\n",
        "\n",
        "# Flattening\n",
        "classifier.add(Flatten())\n",
        "\n",
        "# Full Connection (Hidden Layers)\n",
        "classifier.add(Dense(64, activation='relu'))\n",
        "\n",
        "# Output Layer\n",
        "classifier.add(Dense(3, activation='softmax'))"
      ],
      "execution_count": 16,
      "outputs": []
    },
    {
      "cell_type": "code",
      "metadata": {
        "colab_type": "code",
        "id": "AOIgp8dePGX5",
        "colab": {}
      },
      "source": [
        "classifier.compile(optimizer='adam', loss='categorical_crossentropy', metrics=['accuracy'])"
      ],
      "execution_count": 17,
      "outputs": []
    },
    {
      "cell_type": "code",
      "metadata": {
        "colab_type": "code",
        "id": "YqoXMJraJ-G6",
        "colab": {
          "base_uri": "https://localhost:8080/",
          "height": 407
        },
        "outputId": "f45c9547-c709-4da8-c2ad-1b85f15a35b4"
      },
      "source": [
        "classifier.summary()"
      ],
      "execution_count": 18,
      "outputs": [
        {
          "output_type": "stream",
          "text": [
            "Model: \"sequential\"\n",
            "_________________________________________________________________\n",
            "Layer (type)                 Output Shape              Param #   \n",
            "=================================================================\n",
            "conv2d (Conv2D)              (None, 26, 26, 32)        896       \n",
            "_________________________________________________________________\n",
            "max_pooling2d (MaxPooling2D) (None, 13, 13, 32)        0         \n",
            "_________________________________________________________________\n",
            "conv2d_1 (Conv2D)            (None, 11, 11, 32)        9248      \n",
            "_________________________________________________________________\n",
            "max_pooling2d_1 (MaxPooling2 (None, 5, 5, 32)          0         \n",
            "_________________________________________________________________\n",
            "flatten (Flatten)            (None, 800)               0         \n",
            "_________________________________________________________________\n",
            "dense (Dense)                (None, 64)                51264     \n",
            "_________________________________________________________________\n",
            "dense_1 (Dense)              (None, 3)                 195       \n",
            "=================================================================\n",
            "Total params: 61,603\n",
            "Trainable params: 61,603\n",
            "Non-trainable params: 0\n",
            "_________________________________________________________________\n"
          ],
          "name": "stdout"
        }
      ]
    },
    {
      "cell_type": "code",
      "metadata": {
        "colab_type": "code",
        "id": "c38Q_f9vLBfr",
        "colab": {}
      },
      "source": [
        "from keras.preprocessing.image import ImageDataGenerator"
      ],
      "execution_count": 19,
      "outputs": []
    },
    {
      "cell_type": "code",
      "metadata": {
        "colab_type": "code",
        "id": "sUx2vHc3KFxW",
        "colab": {
          "base_uri": "https://localhost:8080/",
          "height": 52
        },
        "outputId": "404c3e70-591c-4f02-856e-a8e6cf11b43f"
      },
      "source": [
        "train_datagen = ImageDataGenerator(\n",
        "        rescale=1./255,\n",
        "        shear_range=0.2,\n",
        "        zoom_range=0.2,\n",
        "        horizontal_flip=True)\n",
        "\n",
        "train_set = train_datagen.flow_from_directory(\n",
        "        '/content/shapes',\n",
        "        target_size=(28, 28),\n",
        "        batch_size=32,\n",
        "        class_mode='categorical')\n",
        "\n",
        "validation_datagen = ImageDataGenerator(rescale=1./255)\n",
        "\n",
        "validation_set = validation_datagen.flow_from_directory(\n",
        "        '/content/shapes_val',\n",
        "        target_size=(28, 28),\n",
        "        batch_size=32,\n",
        "        class_mode='categorical')"
      ],
      "execution_count": 20,
      "outputs": [
        {
          "output_type": "stream",
          "text": [
            "Found 240 images belonging to 3 classes.\n",
            "Found 60 images belonging to 3 classes.\n"
          ],
          "name": "stdout"
        }
      ]
    },
    {
      "cell_type": "code",
      "metadata": {
        "colab_type": "code",
        "id": "SX6z-YmwTJyM",
        "colab": {
          "base_uri": "https://localhost:8080/",
          "height": 34
        },
        "outputId": "050e20c7-b35d-4578-995e-d38214dd0b47"
      },
      "source": [
        "train_set.class_indices"
      ],
      "execution_count": 21,
      "outputs": [
        {
          "output_type": "execute_result",
          "data": {
            "text/plain": [
              "{'circles': 0, 'squares': 1, 'triangles': 2}"
            ]
          },
          "metadata": {
            "tags": []
          },
          "execution_count": 21
        }
      ]
    },
    {
      "cell_type": "code",
      "metadata": {
        "colab_type": "code",
        "id": "XXECr0yMOpzv",
        "colab": {
          "base_uri": "https://localhost:8080/",
          "height": 178
        },
        "outputId": "89cb4dc2-8c72-4f76-b555-58f32d68e900"
      },
      "source": [
        "classifier.fit_generator(\n",
        "        train_set,\n",
        "        steps_per_epoch=240,\n",
        "        epochs=20,\n",
        "        validation_data=validation_set,\n",
        "        validation_steps=60)"
      ],
      "execution_count": 22,
      "outputs": [
        {
          "output_type": "stream",
          "text": [
            "WARNING:tensorflow:From <ipython-input-22-1d7b4b856443>:6: Model.fit_generator (from tensorflow.python.keras.engine.training) is deprecated and will be removed in a future version.\n",
            "Instructions for updating:\n",
            "Please use Model.fit, which supports generators.\n",
            "Epoch 1/20\n",
            "  6/240 [..............................] - ETA: 6s - loss: 1.1134 - accuracy: 0.3125WARNING:tensorflow:Your input ran out of data; interrupting training. Make sure that your dataset or generator can generate at least `steps_per_epoch * epochs` batches (in this case, 4800 batches). You may need to use the repeat() function when building your dataset.\n",
            "WARNING:tensorflow:Your input ran out of data; interrupting training. Make sure that your dataset or generator can generate at least `steps_per_epoch * epochs` batches (in this case, 60 batches). You may need to use the repeat() function when building your dataset.\n",
            "  8/240 [>.............................] - 1s 67ms/step - loss: 1.1103 - accuracy: 0.3125 - val_loss: 1.0937 - val_accuracy: 0.4000\n"
          ],
          "name": "stdout"
        },
        {
          "output_type": "execute_result",
          "data": {
            "text/plain": [
              "<tensorflow.python.keras.callbacks.History at 0x7fe654b94940>"
            ]
          },
          "metadata": {
            "tags": []
          },
          "execution_count": 22
        }
      ]
    },
    {
      "cell_type": "code",
      "metadata": {
        "colab_type": "code",
        "id": "L18RdH8iU_bU",
        "colab": {}
      },
      "source": [
        ""
      ],
      "execution_count": 22,
      "outputs": []
    },
    {
      "cell_type": "code",
      "metadata": {
        "colab_type": "code",
        "id": "AijnbpUzY3tb",
        "colab": {}
      },
      "source": [
        "from google.colab import drive\n",
        "drive.mount('/content/drive')"
      ],
      "execution_count": null,
      "outputs": []
    },
    {
      "cell_type": "code",
      "metadata": {
        "colab_type": "code",
        "id": "FigkxyncesHf",
        "colab": {}
      },
      "source": [
        "from PIL import Image"
      ],
      "execution_count": null,
      "outputs": []
    },
    {
      "cell_type": "code",
      "metadata": {
        "colab_type": "code",
        "id": "3fZoQTLpffrm",
        "colab": {}
      },
      "source": [
        "circle_png = Image.open('/content/drive/My Drive/datasets/circle.png')\n",
        "sq = Image.open('/content/drive/My Drive/datasets/squares.png')\n",
        "tr = Image.open('/content/drive/My Drive/datasets/Triangle.png')"
      ],
      "execution_count": null,
      "outputs": []
    },
    {
      "cell_type": "code",
      "metadata": {
        "colab_type": "code",
        "id": "jrz0wtpfgWpa",
        "colab": {}
      },
      "source": [
        "plt.imshow(tr)"
      ],
      "execution_count": null,
      "outputs": []
    },
    {
      "cell_type": "code",
      "metadata": {
        "colab_type": "code",
        "id": "-FwT59lwfwdy",
        "colab": {}
      },
      "source": [
        "circle_png = circle_png.convert('RGB')\n",
        "sq = sq.convert('RGB')\n",
        "tr = tr.convert('RGB')"
      ],
      "execution_count": null,
      "outputs": []
    },
    {
      "cell_type": "code",
      "metadata": {
        "colab_type": "code",
        "id": "W1KeqT2lf3N5",
        "colab": {}
      },
      "source": [
        "circle_png = circle_png.resize((28,28), Image.ANTIALIAS)\n",
        "sq = sq.resize((28,28), Image.ANTIALIAS)\n",
        "tr = tr.resize((28,28), Image.ANTIALIAS)"
      ],
      "execution_count": null,
      "outputs": []
    },
    {
      "cell_type": "code",
      "metadata": {
        "colab_type": "code",
        "id": "DTOWmo8AgJQu",
        "colab": {}
      },
      "source": [
        "plt.imshow(tr)"
      ],
      "execution_count": null,
      "outputs": []
    },
    {
      "cell_type": "code",
      "metadata": {
        "colab_type": "code",
        "id": "wB4kK2Oph6ns",
        "colab": {}
      },
      "source": [
        "import pandas as pd"
      ],
      "execution_count": null,
      "outputs": []
    },
    {
      "cell_type": "code",
      "metadata": {
        "colab_type": "code",
        "id": "41Q-f16YgOjK",
        "colab": {}
      },
      "source": [
        "classifier.predict(np.array(tr).reshape(1,28,28,3))"
      ],
      "execution_count": null,
      "outputs": []
    },
    {
      "cell_type": "code",
      "metadata": {
        "colab_type": "code",
        "id": "GqQgpaqig0Fc",
        "colab": {}
      },
      "source": [
        "train_set.class_indices"
      ],
      "execution_count": null,
      "outputs": []
    },
    {
      "cell_type": "markdown",
      "metadata": {
        "id": "CjuSB5jUJm89",
        "colab_type": "text"
      },
      "source": [
        "----------------------------------------------"
      ]
    },
    {
      "cell_type": "code",
      "metadata": {
        "id": "348H-dGcJm8_",
        "colab_type": "code",
        "colab": {}
      },
      "source": [
        "import numpy as np"
      ],
      "execution_count": null,
      "outputs": []
    },
    {
      "cell_type": "code",
      "metadata": {
        "id": "j4nh3SMDJm9G",
        "colab_type": "code",
        "colab": {}
      },
      "source": [
        "classes = {'circles': 0, 'squares': 1, 'triangles': 2}\n",
        "classes"
      ],
      "execution_count": null,
      "outputs": []
    },
    {
      "cell_type": "code",
      "metadata": {
        "id": "mpM3D7YXJm9M",
        "colab_type": "code",
        "colab": {}
      },
      "source": [
        "answers = np.array([[0.45, 0.35, 0.2], [0.1, 0.3, 0.6], [0.35, 0.55, 0.1]])"
      ],
      "execution_count": null,
      "outputs": []
    },
    {
      "cell_type": "code",
      "metadata": {
        "id": "aeCfoCAGJm9S",
        "colab_type": "code",
        "colab": {}
      },
      "source": [
        "answers = [np.argmax(ans) for ans in answers]"
      ],
      "execution_count": null,
      "outputs": []
    },
    {
      "cell_type": "code",
      "metadata": {
        "id": "Q1EqzAusJm9Y",
        "colab_type": "code",
        "colab": {}
      },
      "source": [
        "answers"
      ],
      "execution_count": null,
      "outputs": []
    },
    {
      "cell_type": "code",
      "metadata": {
        "id": "JYWsbCYiJm9e",
        "colab_type": "code",
        "colab": {}
      },
      "source": [
        "from sklearn.preprocessing import LabelBinarizer\n",
        "lb = LabelBinarizer()"
      ],
      "execution_count": null,
      "outputs": []
    },
    {
      "cell_type": "code",
      "metadata": {
        "id": "T5SewLurJm9j",
        "colab_type": "code",
        "colab": {}
      },
      "source": [
        "lb.fit(np.array([0,1,2]))"
      ],
      "execution_count": null,
      "outputs": []
    },
    {
      "cell_type": "code",
      "metadata": {
        "id": "QvwDMmD7Jm9r",
        "colab_type": "code",
        "colab": {}
      },
      "source": [
        "lb.classes_"
      ],
      "execution_count": null,
      "outputs": []
    },
    {
      "cell_type": "code",
      "metadata": {
        "id": "FfIo2xhWJm93",
        "colab_type": "code",
        "colab": {}
      },
      "source": [
        "answers = np.array([[0.45, 0.35, 0.2], [0.1, 0.3, 0.6], [0.35, 0.55, 0.1]])"
      ],
      "execution_count": null,
      "outputs": []
    },
    {
      "cell_type": "code",
      "metadata": {
        "id": "EwEFofhZJm99",
        "colab_type": "code",
        "colab": {}
      },
      "source": [
        "lb.inverse_transform(answers)"
      ],
      "execution_count": null,
      "outputs": []
    }
  ]
}